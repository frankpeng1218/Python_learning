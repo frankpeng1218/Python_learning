{
 "cells": [
  {
   "cell_type": "code",
   "execution_count": null,
   "id": "6ac51e03",
   "metadata": {},
   "outputs": [],
   "source": [
    "import asyncio\n",
    "\n",
    "async def async_task(name, delay):\n",
    "    print(f\"Starting task {name}\")\n",
    "    await asyncio.sleep(delay)\n",
    "    print(f\"Task {name} completed\")\n",
    "\n",
    "async def main():\n",
    "    task_a = asyncio.create_task(async_task(\"A\", 2))\n",
    "    task_b = asyncio.create_task(async_task(\"B\", 3))\n",
    "    task_c = asyncio.create_task(async_task(\"C\", 1))\n",
    "    \n",
    "    await asyncio.gather(task_a, task_b, task_c)\n",
    "\n",
    "print(\"Starting asynchronous tasks\")\n",
    "# Run the main function in an appropriate way for the current environment\n",
    "await main()\n",
    "print(\"Asynchronous tasks completed\")\n"
   ]
  },
  {
   "cell_type": "code",
   "execution_count": null,
   "id": "f6fc52a0",
   "metadata": {},
   "outputs": [],
   "source": []
  }
 ],
 "metadata": {
  "kernelspec": {
   "display_name": "Python 3 (ipykernel)",
   "language": "python",
   "name": "python3"
  },
  "language_info": {
   "codemirror_mode": {
    "name": "ipython",
    "version": 3
   },
   "file_extension": ".py",
   "mimetype": "text/x-python",
   "name": "python",
   "nbconvert_exporter": "python",
   "pygments_lexer": "ipython3",
   "version": "3.9.18"
  }
 },
 "nbformat": 4,
 "nbformat_minor": 5
}
