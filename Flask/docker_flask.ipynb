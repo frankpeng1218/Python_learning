{
 "cells": [
  {
   "cell_type": "markdown",
   "id": "3e5b06c0",
   "metadata": {},
   "source": [
    "https://www.bilibili.com/video/BV18J411n79W?p=10&vd_source=3be560cb27c7dd13df91cfbe438f8507"
   ]
  },
  {
   "cell_type": "code",
   "execution_count": null,
   "id": "57d88631",
   "metadata": {},
   "outputs": [],
   "source": [
    "from flask import Flask, render_template\n",
    "from flask_admin import Admin"
   ]
  },
  {
   "cell_type": "code",
   "execution_count": 3,
   "id": "ebb7b042",
   "metadata": {},
   "outputs": [],
   "source": [
    "app = Flask(__name__)\n",
    "admin = Admin(app)\n",
    "\n",
    "@app.route('/')\n",
    "def hello_world():\n",
    "    return 'Hello World!'\n",
    "\n",
    "@app.route('/welcome')\n",
    "def welcome():\n",
    "    return '你好'\n",
    "\n",
    "\n",
    "@app.route('/welcomehtml')\n",
    "def welcomehtml():\n",
    "    return render_template('welcome.html', message = '你好你好你好6')\n",
    "\n",
    "\n",
    "if __name__ == '__main__':\n",
    "    app.run()"
   ]
  },
  {
   "cell_type": "code",
   "execution_count": null,
   "id": "1fd2f5da",
   "metadata": {},
   "outputs": [],
   "source": []
  },
  {
   "cell_type": "code",
   "execution_count": 1,
   "id": "534327a5",
   "metadata": {},
   "outputs": [],
   "source": [
    "from flask import Flask, render_template\n",
    "from controller.user import user"
   ]
  },
  {
   "cell_type": "code",
   "execution_count": 2,
   "id": "ea40130d",
   "metadata": {},
   "outputs": [
    {
     "name": "stdout",
     "output_type": "stream",
     "text": [
      " * Serving Flask app '__main__'\n",
      " * Debug mode: off\n"
     ]
    },
    {
     "name": "stderr",
     "output_type": "stream",
     "text": [
      "WARNING: This is a development server. Do not use it in a production deployment. Use a production WSGI server instead.\n",
      " * Running on http://127.0.0.1:5000\n",
      "Press CTRL+C to quit\n"
     ]
    }
   ],
   "source": [
    "app = Flask(__name__)\n",
    "app.register_blueprint(user)\n",
    "\n",
    "@app.route('/')\n",
    "def hello_world():\n",
    "    return 'Hello World!'\n",
    "\n",
    "@app.route('/welcome')\n",
    "def welcome():\n",
    "    return '你好'\n",
    "\n",
    "\n",
    "@app.route('/welcomehtml')\n",
    "def welcomehtml():\n",
    "    return render_template('welcome.html', message = '你好你好你好6')\n",
    "\n",
    "\n",
    "if __name__ == '__main__':\n",
    "    app.run()"
   ]
  },
  {
   "cell_type": "code",
   "execution_count": null,
   "id": "3dd2a59e",
   "metadata": {},
   "outputs": [],
   "source": []
  }
 ],
 "metadata": {
  "kernelspec": {
   "display_name": "Python 3 (ipykernel)",
   "language": "python",
   "name": "python3"
  },
  "language_info": {
   "codemirror_mode": {
    "name": "ipython",
    "version": 3
   },
   "file_extension": ".py",
   "mimetype": "text/x-python",
   "name": "python",
   "nbconvert_exporter": "python",
   "pygments_lexer": "ipython3",
   "version": "3.9.undefined"
  }
 },
 "nbformat": 4,
 "nbformat_minor": 5
}
