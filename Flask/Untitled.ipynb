{
 "cells": [
  {
   "cell_type": "code",
   "execution_count": null,
   "id": "03b58a39",
   "metadata": {},
   "outputs": [],
   "source": [
    "# app.py\n",
    "\n",
    "from flask import Flask, render_template\n",
    "from controller.user import user\n",
    "from controller.user_detail import user_detail  # Import user_detail blueprint\n",
    "\n",
    "app = Flask(__name__)\n",
    "app.register_blueprint(user)\n",
    "app.register_blueprint(user_detail)  # Register user_detail blueprint\n",
    "\n",
    "@app.route('/')\n",
    "def hello_world():\n",
    "    return 'Hello World!'\n",
    "\n",
    "@app.route('/welcome')\n",
    "def welcome():\n",
    "    return '你好'\n",
    "\n",
    "@app.route('/welcomehtml')\n",
    "def welcomehtml():\n",
    "    return render_template('welcome.html', message='你好你好你好6')\n",
    "\n",
    "if __name__ == '__main__':\n",
    "    app.run()\n"
   ]
  },
  {
   "cell_type": "code",
   "execution_count": null,
   "id": "a1a36e54",
   "metadata": {},
   "outputs": [],
   "source": []
  }
 ],
 "metadata": {
  "kernelspec": {
   "display_name": "Python 3 (ipykernel)",
   "language": "python",
   "name": "python3"
  },
  "language_info": {
   "codemirror_mode": {
    "name": "ipython",
    "version": 3
   },
   "file_extension": ".py",
   "mimetype": "text/x-python",
   "name": "python",
   "nbconvert_exporter": "python",
   "pygments_lexer": "ipython3",
   "version": "3.9.18"
  }
 },
 "nbformat": 4,
 "nbformat_minor": 5
}
